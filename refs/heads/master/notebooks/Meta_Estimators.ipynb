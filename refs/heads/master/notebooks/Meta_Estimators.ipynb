{
 "cells": [
  {
   "cell_type": "raw",
   "id": "attached-thirty",
   "metadata": {},
   "source": [
    "<a href=\"https://colab.research.google.com/github/adriangb/scikeras/blob/docs-deploy/refs/heads/master/notebooks/Meta_Estimators.ipynb\"><img src=\"https://www.tensorflow.org/images/colab_logo_32px.png\">Run in Google Colab</a>"
   ]
  },
  {
   "cell_type": "markdown",
   "id": "paperback-hypothesis",
   "metadata": {},
   "source": [
    "# Meta Estimators in SciKeras\n",
    "\n",
    "In this notebook, we implement sklearn ensemble and tree meta-estimators backed by a Keras MLP model.\n",
    "\n",
    "## Table of contents\n",
    "\n",
    "* [1. Setup](#1.-Setup)\n",
    "* [2. Defining the Keras Model](#2.-Defining-the-Keras-Model)\n",
    "  * [2.1 Building a boosting ensemble](#2.1-Building-a-boosting-ensemble)\n",
    "* [3. Testing with a toy dataset](#3.-Testing-with-a-toy-dataset)\n",
    "* [4. Bagging ensemble](#4.-Bagging-ensemble)\n",
    "\n",
    "## 1. Setup"
   ]
  },
  {
   "cell_type": "code",
   "execution_count": 1,
   "id": "english-missile",
   "metadata": {
    "execution": {
     "iopub.execute_input": "2021-01-24T18:31:59.673663Z",
     "iopub.status.busy": "2021-01-24T18:31:59.673045Z",
     "iopub.status.idle": "2021-01-24T18:32:04.320913Z",
     "shell.execute_reply": "2021-01-24T18:32:04.321398Z"
    }
   },
   "outputs": [],
   "source": [
    "try:\n",
    "    import scikeras\n",
    "except ImportError:\n",
    "    !python -m pip install scikeras"
   ]
  },
  {
   "cell_type": "markdown",
   "id": "presidential-packaging",
   "metadata": {},
   "source": [
    "Silence TensorFlow logging to keep output succinct."
   ]
  },
  {
   "cell_type": "code",
   "execution_count": 2,
   "id": "coordinated-stage",
   "metadata": {
    "execution": {
     "iopub.execute_input": "2021-01-24T18:32:04.324754Z",
     "iopub.status.busy": "2021-01-24T18:32:04.323663Z",
     "iopub.status.idle": "2021-01-24T18:32:04.332450Z",
     "shell.execute_reply": "2021-01-24T18:32:04.333172Z"
    }
   },
   "outputs": [],
   "source": [
    "import warnings\n",
    "from tensorflow import get_logger\n",
    "get_logger().setLevel('ERROR')\n",
    "warnings.filterwarnings(\"ignore\", message=\"Setting the random state for TF\")"
   ]
  },
  {
   "cell_type": "code",
   "execution_count": 3,
   "id": "passive-destiny",
   "metadata": {
    "execution": {
     "iopub.execute_input": "2021-01-24T18:32:04.336494Z",
     "iopub.status.busy": "2021-01-24T18:32:04.335445Z",
     "iopub.status.idle": "2021-01-24T18:32:05.585785Z",
     "shell.execute_reply": "2021-01-24T18:32:05.586637Z"
    }
   },
   "outputs": [],
   "source": [
    "import numpy as np\n",
    "from scikeras.wrappers import KerasClassifier, KerasRegressor\n",
    "from tensorflow import keras"
   ]
  },
  {
   "cell_type": "markdown",
   "id": "appreciated-reggae",
   "metadata": {},
   "source": [
    "## 2. Defining the Keras Model\n",
    "\n",
    "We borrow our MLPClassifier implementation from the [MLPClassifier notebook](https://colab.research.google.com/github/adriangb/scikeras/blob/master/notebooks/MLPClassifier_and_MLPRegressor.ipynb)."
   ]
  },
  {
   "cell_type": "code",
   "execution_count": 4,
   "id": "congressional-mention",
   "metadata": {
    "execution": {
     "iopub.execute_input": "2021-01-24T18:32:05.590640Z",
     "iopub.status.busy": "2021-01-24T18:32:05.589507Z",
     "iopub.status.idle": "2021-01-24T18:32:05.615324Z",
     "shell.execute_reply": "2021-01-24T18:32:05.616120Z"
    }
   },
   "outputs": [],
   "source": [
    "from typing import Dict, Iterable, Any\n",
    "\n",
    "\n",
    "def get_clf_model(hidden_layer_sizes: Iterable[int], meta: Dict[str, Any], compile_kwargs: Dict[str, Any]):\n",
    "    model = keras.Sequential()\n",
    "    inp = keras.layers.Input(shape=(meta[\"n_features_in_\"]))\n",
    "    model.add(inp)\n",
    "    for hidden_layer_size in hidden_layer_sizes:\n",
    "        layer = keras.layers.Dense(hidden_layer_size, activation=\"relu\")\n",
    "        model.add(layer)\n",
    "    if meta[\"target_type_\"] == \"binary\":\n",
    "        n_output_units = 1\n",
    "        output_activation = \"sigmoid\"\n",
    "        loss = \"binary_crossentropy\"\n",
    "    elif meta[\"target_type_\"] == \"multiclass\":\n",
    "        n_output_units = meta[\"n_classes_\"]\n",
    "        output_activation = \"softmax\"\n",
    "        loss = \"sparse_categorical_crossentropy\"\n",
    "    else:\n",
    "        raise NotImplementedError(f\"Unsupported task type: {meta['target_type_']}\")\n",
    "    out = keras.layers.Dense(n_output_units, activation=output_activation)\n",
    "    model.add(out)\n",
    "    model.compile(loss=loss, optimizer=compile_kwargs[\"optimizer\"])\n",
    "    return model"
   ]
  },
  {
   "cell_type": "markdown",
   "id": "exciting-detective",
   "metadata": {},
   "source": [
    "Next we wrap this Keras model with SciKeras"
   ]
  },
  {
   "cell_type": "code",
   "execution_count": 5,
   "id": "green-chain",
   "metadata": {
    "execution": {
     "iopub.execute_input": "2021-01-24T18:32:05.619631Z",
     "iopub.status.busy": "2021-01-24T18:32:05.618559Z",
     "iopub.status.idle": "2021-01-24T18:32:05.628384Z",
     "shell.execute_reply": "2021-01-24T18:32:05.629111Z"
    }
   },
   "outputs": [],
   "source": [
    "clf = KerasClassifier(\n",
    "    model=get_clf_model,\n",
    "    hidden_layer_sizes=(100, ),\n",
    "    optimizer=\"adam\",\n",
    "    optimizer__learning_rate=0.001,\n",
    "    verbose=0,\n",
    "    random_state=0,\n",
    ")"
   ]
  },
  {
   "cell_type": "markdown",
   "id": "collect-ownership",
   "metadata": {},
   "source": [
    "### 2.1 Building a boosting ensemble\n",
    "\n",
    "Because SciKeras estimators are fully compliant with the Scikit-Learn API, we can make use of Scikit-Learn's built in utilities. In particular example, we will use `AdaBoostClassifier` from `sklearn.ensemble.AdaBoostClassifier`, but the process is the same for most Scikit-Learn meta-estimators."
   ]
  },
  {
   "cell_type": "code",
   "execution_count": 6,
   "id": "bored-thickness",
   "metadata": {
    "execution": {
     "iopub.execute_input": "2021-01-24T18:32:05.632608Z",
     "iopub.status.busy": "2021-01-24T18:32:05.631579Z",
     "iopub.status.idle": "2021-01-24T18:32:05.785203Z",
     "shell.execute_reply": "2021-01-24T18:32:05.786011Z"
    }
   },
   "outputs": [],
   "source": [
    "from sklearn.ensemble import AdaBoostClassifier"
   ]
  },
  {
   "cell_type": "code",
   "execution_count": 7,
   "id": "magnetic-weekend",
   "metadata": {
    "execution": {
     "iopub.execute_input": "2021-01-24T18:32:05.789550Z",
     "iopub.status.busy": "2021-01-24T18:32:05.788471Z",
     "iopub.status.idle": "2021-01-24T18:32:05.796458Z",
     "shell.execute_reply": "2021-01-24T18:32:05.797783Z"
    }
   },
   "outputs": [],
   "source": [
    "adaboost = AdaBoostClassifier(base_estimator=clf, random_state=0)"
   ]
  },
  {
   "cell_type": "markdown",
   "id": "earned-moore",
   "metadata": {},
   "source": [
    "## 3. Testing with a toy dataset\n",
    "\n",
    "Before continouing, we will run a small test to make sure we get somewhat reasonable results."
   ]
  },
  {
   "cell_type": "code",
   "execution_count": 8,
   "id": "choice-edwards",
   "metadata": {
    "execution": {
     "iopub.execute_input": "2021-01-24T18:32:05.806229Z",
     "iopub.status.busy": "2021-01-24T18:32:05.800294Z",
     "iopub.status.idle": "2021-01-24T18:32:05.878723Z",
     "shell.execute_reply": "2021-01-24T18:32:05.882569Z"
    }
   },
   "outputs": [],
   "source": [
    "from sklearn.datasets import make_moons\n",
    "from sklearn.model_selection import cross_val_score"
   ]
  },
  {
   "cell_type": "code",
   "execution_count": 9,
   "id": "going-silence",
   "metadata": {
    "execution": {
     "iopub.execute_input": "2021-01-24T18:32:05.893341Z",
     "iopub.status.busy": "2021-01-24T18:32:05.886889Z",
     "iopub.status.idle": "2021-01-24T18:36:24.654824Z",
     "shell.execute_reply": "2021-01-24T18:36:24.654338Z"
    }
   },
   "outputs": [
    {
     "name": "stdout",
     "output_type": "stream",
     "text": [
      "Single score: 0.32\n",
      "AdaBoost score: 0.80\n"
     ]
    }
   ],
   "source": [
    "X, y = make_moons()\n",
    "\n",
    "single_score = np.mean(cross_val_score(clf, X, y))\n",
    "\n",
    "adaboost_score = np.mean(cross_val_score(adaboost, X, y))\n",
    "\n",
    "print(f\"Single score: {single_score:.2f}\")\n",
    "print(f\"AdaBoost score: {adaboost_score:.2f}\")"
   ]
  },
  {
   "cell_type": "markdown",
   "id": "fifteen-vegetarian",
   "metadata": {},
   "source": [
    "We see that the score for the AdaBoost classifier is slightly higher than that of an individual MLPRegressor instance. We can explore the individual classifiers, and see that each one is composed of a Keras Model with it's own individual weights."
   ]
  },
  {
   "cell_type": "code",
   "execution_count": 10,
   "id": "minimal-former",
   "metadata": {
    "execution": {
     "iopub.execute_input": "2021-01-24T18:36:24.672507Z",
     "iopub.status.busy": "2021-01-24T18:36:24.671956Z",
     "iopub.status.idle": "2021-01-24T18:36:56.448714Z",
     "shell.execute_reply": "2021-01-24T18:36:56.449147Z"
    }
   },
   "outputs": [
    {
     "data": {
      "text/plain": [
       "AdaBoostClassifier(base_estimator=KerasClassifier(hidden_layer_sizes=(100,), model=<function get_clf_model at 0x7faca4816430>, optimizer='adam', optimizer__learning_rate=0.001, random_state=0, verbose=0),\n",
       "                   random_state=0)"
      ]
     },
     "execution_count": 1,
     "metadata": {},
     "output_type": "execute_result"
    }
   ],
   "source": [
    "adaboost.fit(X, y)  # we need to fit outside of cross_val_score before accessing the weights"
   ]
  },
  {
   "cell_type": "code",
   "execution_count": 11,
   "id": "sound-german",
   "metadata": {
    "execution": {
     "iopub.execute_input": "2021-01-24T18:36:56.454173Z",
     "iopub.status.busy": "2021-01-24T18:36:56.453405Z",
     "iopub.status.idle": "2021-01-24T18:36:56.461624Z",
     "shell.execute_reply": "2021-01-24T18:36:56.462039Z"
    }
   },
   "outputs": [
    {
     "name": "stdout",
     "output_type": "stream",
     "text": [
      "[-0.12644058  0.08278973 -0.0826131   0.17556103 -0.14989369]\n",
      "[ 0.06881203 -0.21108156  0.19620852 -0.07201111 -0.0097408 ]\n"
     ]
    }
   ],
   "source": [
    "print(adaboost.estimators_[0].model_.get_weights()[0][0, :5])  # first sub-estimator\n",
    "print(adaboost.estimators_[1].model_.get_weights()[0][0, :5])  # second sub-estimator"
   ]
  },
  {
   "cell_type": "markdown",
   "id": "spoken-happiness",
   "metadata": {},
   "source": [
    "## 4. Bagging ensemble\n",
    "\n",
    "For comparison, we run the same test with an ensemble built using `sklearn.ensemble.BaggingClassifier`."
   ]
  },
  {
   "cell_type": "code",
   "execution_count": 12,
   "id": "overall-workshop",
   "metadata": {
    "execution": {
     "iopub.execute_input": "2021-01-24T18:36:56.466270Z",
     "iopub.status.busy": "2021-01-24T18:36:56.465746Z",
     "iopub.status.idle": "2021-01-24T18:36:56.470557Z",
     "shell.execute_reply": "2021-01-24T18:36:56.469757Z"
    }
   },
   "outputs": [],
   "source": [
    "from sklearn.ensemble import BaggingClassifier"
   ]
  },
  {
   "cell_type": "code",
   "execution_count": 13,
   "id": "worst-lesbian",
   "metadata": {
    "execution": {
     "iopub.execute_input": "2021-01-24T18:36:56.476856Z",
     "iopub.status.busy": "2021-01-24T18:36:56.474117Z",
     "iopub.status.idle": "2021-01-24T18:38:25.155684Z",
     "shell.execute_reply": "2021-01-24T18:38:25.156373Z"
    }
   },
   "outputs": [
    {
     "name": "stdout",
     "output_type": "stream",
     "text": [
      "Bagging score: 0.60\n"
     ]
    }
   ],
   "source": [
    "bagging = BaggingClassifier(base_estimator=clf, random_state=0, n_jobs=-1)\n",
    "\n",
    "bagging_score = np.mean(cross_val_score(bagging, X, y))\n",
    "\n",
    "print(f\"Bagging score: {bagging_score:.2f}\")"
   ]
  }
 ],
 "metadata": {
  "jupytext": {
   "formats": "ipynb,md"
  },
  "kernelspec": {
   "display_name": "Python 3",
   "language": "python",
   "name": "python3"
  },
  "language_info": {
   "codemirror_mode": {
    "name": "ipython",
    "version": 3
   },
   "file_extension": ".py",
   "mimetype": "text/x-python",
   "name": "python",
   "nbconvert_exporter": "python",
   "pygments_lexer": "ipython3",
   "version": "3.8.6"
  }
 },
 "nbformat": 4,
 "nbformat_minor": 5
}
